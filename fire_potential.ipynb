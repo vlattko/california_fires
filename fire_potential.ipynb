{
 "cells": [
  {
   "cell_type": "code",
   "execution_count": 1,
   "metadata": {},
   "outputs": [
    {
     "data": {
      "application/vnd.jupyter.widget-view+json": {
       "model_id": "029aeadc6473466f9dcc12f9e4534963",
       "version_major": 2,
       "version_minor": 0
      },
      "text/plain": [
       "Map(center=[0, 0], controls=(WidgetControl(options=['position', 'transparent_bg'], widget=SearchDataGUI(childr…"
      ]
     },
     "execution_count": 1,
     "metadata": {},
     "output_type": "execute_result"
    }
   ],
   "source": [
    "import ee\n",
    "import geemap\n",
    "\n",
    "try:\n",
    "    ee.Initialize()\n",
    "except Exception:\n",
    "    ee.Authenticate()\n",
    "    ee.Initialize()\n",
    "\n",
    "# Create the map, ROI is assumed to be already defined\n",
    "Map = geemap.Map(center=[0, 0], zoom=2)\n",
    "Map\n"
   ]
  },
  {
   "cell_type": "code",
   "execution_count": 4,
   "metadata": {},
   "outputs": [
    {
     "data": {
      "text/html": [
       "\n",
       "            <style>\n",
       "                .geemap-dark {\n",
       "                    --jp-widgets-color: white;\n",
       "                    --jp-widgets-label-color: white;\n",
       "                    --jp-ui-font-color1: white;\n",
       "                    --jp-layout-color2: #454545;\n",
       "                    background-color: #383838;\n",
       "                }\n",
       "\n",
       "                .geemap-dark .jupyter-button {\n",
       "                    --jp-layout-color3: #383838;\n",
       "                }\n",
       "\n",
       "                .geemap-colab {\n",
       "                    background-color: var(--colab-primary-surface-color, white);\n",
       "                }\n",
       "\n",
       "                .geemap-colab .jupyter-button {\n",
       "                    --jp-layout-color3: var(--colab-primary-surface-color, white);\n",
       "                }\n",
       "            </style>\n",
       "            "
      ],
      "text/plain": [
       "<IPython.core.display.HTML object>"
      ]
     },
     "metadata": {},
     "output_type": "display_data"
    },
    {
     "name": "stdout",
     "output_type": "stream",
     "text": [
      "ROI successfully retrieved!\n",
      "Feature info: {'type': 'Feature', 'geometry': {'geodesic': False, 'type': 'Polygon', 'coordinates': [[[-119.245605, 34.732584], [-119.185181, 34.011689], [-117.405396, 32.212801], [-116.065063, 33.14675], [-117.366943, 34.443159], [-118.295288, 34.809293], [-119.245605, 34.732584]]]}, 'id': '0', 'properties': {}}\n"
     ]
    }
   ],
   "source": [
    "if Map.user_rois is None:\n",
    "    print(\"No user ROI found. Please draw an ROI on the map before running this cell.\")\n",
    "else:\n",
    "    # Check the number of features in the collection\n",
    "    roi_size = Map.user_rois.size().getInfo()\n",
    "    if roi_size == 0:\n",
    "        print(\"No user ROI found. Please draw an ROI on the map before running this cell.\")\n",
    "    else:\n",
    "        # We'll take the first feature from the FeatureCollection and get its geometry\n",
    "        first_feature = Map.user_rois.first()\n",
    "        roi = first_feature.geometry()\n",
    "        print(\"ROI successfully retrieved!\")\n",
    "        print(\"Feature info:\", first_feature.getInfo())\n",
    "        "
   ]
  },
  {
   "cell_type": "code",
   "execution_count": 5,
   "metadata": {},
   "outputs": [
    {
     "data": {
      "text/html": [
       "\n",
       "            <style>\n",
       "                .geemap-dark {\n",
       "                    --jp-widgets-color: white;\n",
       "                    --jp-widgets-label-color: white;\n",
       "                    --jp-ui-font-color1: white;\n",
       "                    --jp-layout-color2: #454545;\n",
       "                    background-color: #383838;\n",
       "                }\n",
       "\n",
       "                .geemap-dark .jupyter-button {\n",
       "                    --jp-layout-color3: #383838;\n",
       "                }\n",
       "\n",
       "                .geemap-colab {\n",
       "                    background-color: var(--colab-primary-surface-color, white);\n",
       "                }\n",
       "\n",
       "                .geemap-colab .jupyter-button {\n",
       "                    --jp-layout-color3: var(--colab-primary-surface-color, white);\n",
       "                }\n",
       "            </style>\n",
       "            "
      ],
      "text/plain": [
       "<IPython.core.display.HTML object>"
      ]
     },
     "metadata": {},
     "output_type": "display_data"
    }
   ],
   "source": [
    "import datetime\n",
    "\n",
    "start_date = '2024-09-01'\n",
    "end_date = datetime.datetime.now().strftime('%Y-%m-%d')\n",
    "\n",
    "s2_collection = (\n",
    "    ee.ImageCollection(\"COPERNICUS/S2_SR\")\n",
    "    .filterBounds(roi)\n",
    "    .filterDate(start_date, end_date)\n",
    "    .filter(ee.Filter.lt(\"CLOUDY_PIXEL_PERCENTAGE\", 20))\n",
    ")\n",
    "\n",
    "s2_median = s2_collection.median()\n",
    "ndvi = s2_median.normalizedDifference([\"B8\", \"B4\"]).rename(\"NDVI\")\n",
    "\n",
    "forest_mask = ndvi.gt(0.6)\n",
    "shrub_mask = ndvi.gt(0.3).And(ndvi.lte(0.6))\n",
    "classification = (forest_mask.multiply(1).add(shrub_mask.multiply(2))).rename(\"landcover\")\n",
    "\n",
    "fire_potential = ee.Image(1).subtract(ndvi).rename(\"fire_potential\")\n",
    "\n",
    "analysis_image = (\n",
    "    s2_median.select([\"B4\", \"B3\", \"B2\"])\n",
    "    .addBands([classification, fire_potential, ndvi])\n",
    "    .clip(roi)\n",
    ")\n",
    "\n",
    "rgb_vis = {\n",
    "    \"bands\": [\"B4\", \"B3\", \"B2\"],\n",
    "    \"min\": 0,\n",
    "    \"max\": 3000,\n",
    "}\n",
    "\n",
    "class_vis = {\n",
    "    \"min\": 0,\n",
    "    \"max\": 2,\n",
    "    \"palette\": [\"ffffff\", \"006400\", \"7FFF00\"]  # white=none, darkgreen=forest, greenyellow=shrub\n",
    "}\n",
    "\n",
    "fire_vis = {\n",
    "    \"min\": 0,\n",
    "    \"max\": 1,\n",
    "    \"palette\": [\"blue\", \"yellow\", \"red\"]\n",
    "}\n",
    "\n",
    "# These are 'visual' RGB images for each layer\n",
    "s2_composite_vis = s2_median.visualize(**rgb_vis)\n",
    "landcover_vis_img = analysis_image.select(\"landcover\").visualize(**class_vis)\n",
    "fire_potential_vis_img = analysis_image.select(\"fire_potential\").visualize(**fire_vis)\n"
   ]
  },
  {
   "cell_type": "code",
   "execution_count": 8,
   "metadata": {},
   "outputs": [
    {
     "data": {
      "text/html": [
       "\n",
       "            <style>\n",
       "                .geemap-dark {\n",
       "                    --jp-widgets-color: white;\n",
       "                    --jp-widgets-label-color: white;\n",
       "                    --jp-ui-font-color1: white;\n",
       "                    --jp-layout-color2: #454545;\n",
       "                    background-color: #383838;\n",
       "                }\n",
       "\n",
       "                .geemap-dark .jupyter-button {\n",
       "                    --jp-layout-color3: #383838;\n",
       "                }\n",
       "\n",
       "                .geemap-colab {\n",
       "                    background-color: var(--colab-primary-surface-color, white);\n",
       "                }\n",
       "\n",
       "                .geemap-colab .jupyter-button {\n",
       "                    --jp-layout-color3: var(--colab-primary-surface-color, white);\n",
       "                }\n",
       "            </style>\n",
       "            "
      ],
      "text/plain": [
       "<IPython.core.display.HTML object>"
      ]
     },
     "metadata": {},
     "output_type": "display_data"
    }
   ],
   "source": [
    "def blend_images(base_rgb, overlay_rgb, alpha):\n",
    "    \"\"\"\n",
    "    base_rgb, overlay_rgb: ee.Image of 3 visualization bands (R,G,B).\n",
    "    alpha: float in [0,1], how much of overlay is visible on top of base.\n",
    "    Returns a 3-band ee.Image that is the alpha blend of the two.\n",
    "    \"\"\"\n",
    "    alpha_img = ee.Image.constant(alpha)\n",
    "    inv_alpha = ee.Image.constant(1.0).subtract(alpha_img)\n",
    "    # Blend per band: result = base*(1-alpha) + overlay*(alpha)\n",
    "    return base_rgb.multiply(inv_alpha).add(overlay_rgb.multiply(alpha_img))\n",
    "\n",
    "\n",
    "def annotate(img, text):\n",
    "    \"\"\"\n",
    "    Annotate an ee.Image with text in the top-left corner using geemap.\n",
    "    The default style is white text with black outline.\n",
    "    \"\"\"\n",
    "    return geemap.annotate_image(\n",
    "        image=img,\n",
    "        text=text,\n",
    "        font_size=20,\n",
    "        font_color=\"white\",\n",
    "        outline_color=\"black\",\n",
    "        outline_width=2,\n",
    "        position=\"left\"  # top-left\n",
    "    )\n"
   ]
  },
  {
   "cell_type": "code",
   "execution_count": 9,
   "metadata": {},
   "outputs": [
    {
     "data": {
      "text/html": [
       "\n",
       "            <style>\n",
       "                .geemap-dark {\n",
       "                    --jp-widgets-color: white;\n",
       "                    --jp-widgets-label-color: white;\n",
       "                    --jp-ui-font-color1: white;\n",
       "                    --jp-layout-color2: #454545;\n",
       "                    background-color: #383838;\n",
       "                }\n",
       "\n",
       "                .geemap-dark .jupyter-button {\n",
       "                    --jp-layout-color3: #383838;\n",
       "                }\n",
       "\n",
       "                .geemap-colab {\n",
       "                    background-color: var(--colab-primary-surface-color, white);\n",
       "                }\n",
       "\n",
       "                .geemap-colab .jupyter-button {\n",
       "                    --jp-layout-color3: var(--colab-primary-surface-color, white);\n",
       "                }\n",
       "            </style>\n",
       "            "
      ],
      "text/plain": [
       "<IPython.core.display.HTML object>"
      ]
     },
     "metadata": {},
     "output_type": "display_data"
    },
    {
     "ename": "AttributeError",
     "evalue": "module 'geemap' has no attribute 'annotate_image'",
     "output_type": "error",
     "traceback": [
      "\u001b[1;31m---------------------------------------------------------------------------\u001b[0m",
      "\u001b[1;31mAttributeError\u001b[0m                            Traceback (most recent call last)",
      "Cell \u001b[1;32mIn[9], line 10\u001b[0m\n\u001b[0;32m      8\u001b[0m     label_text \u001b[38;5;241m=\u001b[39m \u001b[38;5;124mf\u001b[39m\u001b[38;5;124m\"\u001b[39m\u001b[38;5;124mForest/Shrubland Opacity: \u001b[39m\u001b[38;5;132;01m{\u001b[39;00m\u001b[38;5;28mint\u001b[39m(forest_alpha\u001b[38;5;241m*\u001b[39m\u001b[38;5;241m100\u001b[39m)\u001b[38;5;132;01m}\u001b[39;00m\u001b[38;5;124m%\u001b[39m\u001b[38;5;124m\"\u001b[39m\n\u001b[0;32m      9\u001b[0m     \u001b[38;5;66;03m# Annotate\u001b[39;00m\n\u001b[1;32m---> 10\u001b[0m     annotated \u001b[38;5;241m=\u001b[39m \u001b[43mannotate\u001b[49m\u001b[43m(\u001b[49m\u001b[43mblended\u001b[49m\u001b[43m,\u001b[49m\u001b[43m \u001b[49m\u001b[43mlabel_text\u001b[49m\u001b[43m)\u001b[49m\n\u001b[0;32m     11\u001b[0m     images_list\u001b[38;5;241m.\u001b[39mappend(annotated)\n\u001b[0;32m     13\u001b[0m \u001b[38;5;66;03m# Phase 2: now forest remains at 100%, fade-in fire from 0..1\u001b[39;00m\n",
      "Cell \u001b[1;32mIn[8], line 18\u001b[0m, in \u001b[0;36mannotate\u001b[1;34m(img, text)\u001b[0m\n\u001b[0;32m     13\u001b[0m \u001b[38;5;28;01mdef\u001b[39;00m \u001b[38;5;21mannotate\u001b[39m(img, text):\n\u001b[0;32m     14\u001b[0m \u001b[38;5;250m    \u001b[39m\u001b[38;5;124;03m\"\"\"\u001b[39;00m\n\u001b[0;32m     15\u001b[0m \u001b[38;5;124;03m    Annotate an ee.Image with text in the top-left corner using geemap.\u001b[39;00m\n\u001b[0;32m     16\u001b[0m \u001b[38;5;124;03m    The default style is white text with black outline.\u001b[39;00m\n\u001b[0;32m     17\u001b[0m \u001b[38;5;124;03m    \"\"\"\u001b[39;00m\n\u001b[1;32m---> 18\u001b[0m     \u001b[38;5;28;01mreturn\u001b[39;00m \u001b[43mgeemap\u001b[49m\u001b[38;5;241;43m.\u001b[39;49m\u001b[43mannotate_image\u001b[49m(\n\u001b[0;32m     19\u001b[0m         image\u001b[38;5;241m=\u001b[39mimg,\n\u001b[0;32m     20\u001b[0m         text\u001b[38;5;241m=\u001b[39mtext,\n\u001b[0;32m     21\u001b[0m         font_size\u001b[38;5;241m=\u001b[39m\u001b[38;5;241m20\u001b[39m,\n\u001b[0;32m     22\u001b[0m         font_color\u001b[38;5;241m=\u001b[39m\u001b[38;5;124m\"\u001b[39m\u001b[38;5;124mwhite\u001b[39m\u001b[38;5;124m\"\u001b[39m,\n\u001b[0;32m     23\u001b[0m         outline_color\u001b[38;5;241m=\u001b[39m\u001b[38;5;124m\"\u001b[39m\u001b[38;5;124mblack\u001b[39m\u001b[38;5;124m\"\u001b[39m,\n\u001b[0;32m     24\u001b[0m         outline_width\u001b[38;5;241m=\u001b[39m\u001b[38;5;241m2\u001b[39m,\n\u001b[0;32m     25\u001b[0m         position\u001b[38;5;241m=\u001b[39m\u001b[38;5;124m\"\u001b[39m\u001b[38;5;124mleft\u001b[39m\u001b[38;5;124m\"\u001b[39m  \u001b[38;5;66;03m# top-left\u001b[39;00m\n\u001b[0;32m     26\u001b[0m     )\n",
      "\u001b[1;31mAttributeError\u001b[0m: module 'geemap' has no attribute 'annotate_image'"
     ]
    }
   ],
   "source": [
    "images_list = []\n",
    "\n",
    "# Phase 1: forest fade-in from 0..1 in steps of 0.1\n",
    "for i in range(11):\n",
    "    forest_alpha = i / 10.0\n",
    "    fire_alpha   = 0.0        # Fire off\n",
    "    blended = blend_images(s2_composite_vis, landcover_vis_img, forest_alpha)\n",
    "    label_text = f\"Forest/Shrubland Opacity: {int(forest_alpha*100)}%\"\n",
    "    # Annotate\n",
    "    annotated = annotate(blended, label_text)\n",
    "    images_list.append(annotated)\n",
    "\n",
    "# Phase 2: now forest remains at 100%, fade-in fire from 0..1\n",
    "for i in range(11):\n",
    "    fire_alpha   = i / 10.0\n",
    "    # Start with S2 + forest fully on\n",
    "    base_forest = blend_images(s2_composite_vis, landcover_vis_img, 1.0)\n",
    "    # Then blend the fire overlay\n",
    "    blended = blend_images(base_forest, fire_potential_vis_img, fire_alpha)\n",
    "    label_text = (\n",
    "        f\"Forest/Shrubland: 100%  |  Fire Potential Opacity: {int(fire_alpha*100)}%\"\n",
    "    )\n",
    "    annotated = annotate(blended, label_text)\n",
    "    images_list.append(annotated)\n",
    "\n",
    "# Convert to an ImageCollection\n",
    "animation_col = ee.ImageCollection.fromImages(images_list)\n"
   ]
  },
  {
   "cell_type": "code",
   "execution_count": 16,
   "metadata": {},
   "outputs": [
    {
     "data": {
      "text/html": [
       "\n",
       "            <style>\n",
       "                .geemap-dark {\n",
       "                    --jp-widgets-color: white;\n",
       "                    --jp-widgets-label-color: white;\n",
       "                    --jp-ui-font-color1: white;\n",
       "                    --jp-layout-color2: #454545;\n",
       "                    background-color: #383838;\n",
       "                }\n",
       "\n",
       "                .geemap-dark .jupyter-button {\n",
       "                    --jp-layout-color3: #383838;\n",
       "                }\n",
       "\n",
       "                .geemap-colab {\n",
       "                    background-color: var(--colab-primary-surface-color, white);\n",
       "                }\n",
       "\n",
       "                .geemap-colab .jupyter-button {\n",
       "                    --jp-layout-color3: var(--colab-primary-surface-color, white);\n",
       "                }\n",
       "            </style>\n",
       "            "
      ],
      "text/plain": [
       "<IPython.core.display.HTML object>"
      ]
     },
     "metadata": {},
     "output_type": "display_data"
    },
    {
     "name": "stdout",
     "output_type": "stream",
     "text": [
      "Exporting frame 1/22...\n",
      "Exporting frame 2/22...\n",
      "Exporting frame 3/22...\n",
      "Exporting frame 4/22...\n",
      "Exporting frame 5/22...\n",
      "Exporting frame 6/22...\n",
      "Exporting frame 7/22...\n",
      "Exporting frame 8/22...\n",
      "Exporting frame 9/22...\n",
      "Exporting frame 10/22...\n",
      "Exporting frame 11/22...\n",
      "Exporting frame 12/22...\n",
      "Exporting frame 13/22...\n",
      "Exporting frame 14/22...\n",
      "Exporting frame 15/22...\n",
      "Exporting frame 16/22...\n",
      "Exporting frame 17/22...\n",
      "Exporting frame 18/22...\n",
      "Exporting frame 19/22...\n",
      "Exporting frame 20/22...\n",
      "Exporting frame 21/22...\n",
      "Exporting frame 22/22...\n"
     ]
    }
   ],
   "source": [
    "s2_median = s2_collection.median()\n",
    "ndvi = s2_median.normalizedDifference([\"B8\", \"B4\"]).rename(\"NDVI\")\n",
    "\n",
    "forest_mask = ndvi.gt(0.6)\n",
    "shrub_mask = ndvi.gt(0.3).And(ndvi.lte(0.6))\n",
    "classification = (forest_mask.multiply(1).add(shrub_mask.multiply(2))).rename(\"landcover\")\n",
    "\n",
    "fire_potential = ee.Image(1).subtract(ndvi).rename(\"fire_potential\")\n",
    "\n",
    "analysis_image = (\n",
    "    s2_median.select([\"B4\", \"B3\", \"B2\"])\n",
    "    .addBands([classification, fire_potential, ndvi])\n",
    "    .clip(roi)\n",
    ")\n",
    "\n",
    "# Visualization dictionaries\n",
    "rgb_vis = {\n",
    "    \"bands\": [\"B4\", \"B3\", \"B2\"],\n",
    "    \"min\": 0,\n",
    "    \"max\": 3000,\n",
    "}\n",
    "class_vis = {\n",
    "    \"min\": 0,\n",
    "    \"max\": 2,\n",
    "    \"palette\": [\"ffffff\", \"006400\", \"7FFF00\"] \n",
    "}\n",
    "fire_vis = {\n",
    "    \"min\": 0,\n",
    "    \"max\": 1,\n",
    "    \"palette\": [\"blue\", \"yellow\", \"red\"]\n",
    "}\n",
    "\n",
    "# Create 3-band \"visual\" images for S2, Forest, Fire\n",
    "s2_composite_vis = s2_median.visualize(**rgb_vis)\n",
    "landcover_vis_img = analysis_image.select(\"landcover\").visualize(**class_vis)\n",
    "fire_potential_vis_img = analysis_image.select(\"fire_potential\").visualize(**fire_vis)\n",
    "\n",
    "def blend_images(base_rgb, overlay_rgb, alpha):\n",
    "    \"\"\"Alpha-blend two ee.Image(3-band) using alpha in [0..1].\"\"\"\n",
    "    alpha_img = ee.Image.constant(alpha)\n",
    "    inv_alpha = ee.Image.constant(1.0).subtract(alpha_img)\n",
    "    return base_rgb.multiply(inv_alpha).add(overlay_rgb.multiply(alpha_img))\n",
    "\n",
    "# Build frames by blending, but skip text annotation\n",
    "images_list = []\n",
    "\n",
    "# Phase 1: forest fade-in from 0..1 in steps of 0.1\n",
    "for i in range(11):\n",
    "    forest_alpha = i / 10.0\n",
    "    blended = blend_images(s2_composite_vis, landcover_vis_img, forest_alpha)\n",
    "    images_list.append(blended)\n",
    "\n",
    "# Phase 2: forest at 100%, fade-in fire from 0..1\n",
    "for i in range(11):\n",
    "    fire_alpha = i / 10.0\n",
    "    base_forest = blend_images(s2_composite_vis, landcover_vis_img, 1.0)\n",
    "    blended = blend_images(base_forest, fire_potential_vis_img, fire_alpha)\n",
    "    images_list.append(blended)\n",
    "\n",
    "animation_col = ee.ImageCollection.fromImages(images_list)\n",
    "\n",
    "# Export the GIF without text\n",
    "out_gif = \"forest_fire_no_text.gif\"\n",
    "video_args = {\n",
    "    \"dimensions\": 600,\n",
    "    \"region\": roi,\n",
    "    \"framesPerSecond\": 2,\n",
    "    \"crs\": \"EPSG:3857\",\n",
    "}\n",
    "\n",
    "for i, img in enumerate(images_list):\n",
    "    task = ee.batch.Export.image.toDrive(\n",
    "        image=img,\n",
    "        description=f\"Frame_{i:02d}\",\n",
    "        folder=\"GEE_Frames\",  # Specify your desired Google Drive folder\n",
    "        fileNamePrefix=f\"frame_{i:02d}\",\n",
    "        region=roi,\n",
    "        scale=1000,\n",
    "        crs=\"EPSG:4326\"\n",
    "    )\n",
    "    task.start()\n",
    "    print(f\"Exporting frame {i+1}/{len(images_list)}...\")\n"
   ]
  },
  {
   "cell_type": "code",
   "execution_count": 31,
   "metadata": {},
   "outputs": [
    {
     "data": {
      "text/html": [
       "\n",
       "            <style>\n",
       "                .geemap-dark {\n",
       "                    --jp-widgets-color: white;\n",
       "                    --jp-widgets-label-color: white;\n",
       "                    --jp-ui-font-color1: white;\n",
       "                    --jp-layout-color2: #454545;\n",
       "                    background-color: #383838;\n",
       "                }\n",
       "\n",
       "                .geemap-dark .jupyter-button {\n",
       "                    --jp-layout-color3: #383838;\n",
       "                }\n",
       "\n",
       "                .geemap-colab {\n",
       "                    background-color: var(--colab-primary-surface-color, white);\n",
       "                }\n",
       "\n",
       "                .geemap-colab .jupyter-button {\n",
       "                    --jp-layout-color3: var(--colab-primary-surface-color, white);\n",
       "                }\n",
       "            </style>\n",
       "            "
      ],
      "text/plain": [
       "<IPython.core.display.HTML object>"
      ]
     },
     "metadata": {},
     "output_type": "display_data"
    }
   ],
   "source": [
    "frame_directory = r\"frames\" "
   ]
  },
  {
   "cell_type": "code",
   "execution_count": 34,
   "metadata": {},
   "outputs": [
    {
     "data": {
      "text/html": [
       "\n",
       "            <style>\n",
       "                .geemap-dark {\n",
       "                    --jp-widgets-color: white;\n",
       "                    --jp-widgets-label-color: white;\n",
       "                    --jp-ui-font-color1: white;\n",
       "                    --jp-layout-color2: #454545;\n",
       "                    background-color: #383838;\n",
       "                }\n",
       "\n",
       "                .geemap-dark .jupyter-button {\n",
       "                    --jp-layout-color3: #383838;\n",
       "                }\n",
       "\n",
       "                .geemap-colab {\n",
       "                    background-color: var(--colab-primary-surface-color, white);\n",
       "                }\n",
       "\n",
       "                .geemap-colab .jupyter-button {\n",
       "                    --jp-layout-color3: var(--colab-primary-surface-color, white);\n",
       "                }\n",
       "            </style>\n",
       "            "
      ],
      "text/plain": [
       "<IPython.core.display.HTML object>"
      ]
     },
     "metadata": {},
     "output_type": "display_data"
    }
   ],
   "source": [
    "frame_files = sorted(glob.glob(rf\"{frame_directory}\\frame_*.tif\"))"
   ]
  },
  {
   "cell_type": "code",
   "execution_count": 35,
   "metadata": {},
   "outputs": [
    {
     "data": {
      "text/html": [
       "\n",
       "            <style>\n",
       "                .geemap-dark {\n",
       "                    --jp-widgets-color: white;\n",
       "                    --jp-widgets-label-color: white;\n",
       "                    --jp-ui-font-color1: white;\n",
       "                    --jp-layout-color2: #454545;\n",
       "                    background-color: #383838;\n",
       "                }\n",
       "\n",
       "                .geemap-dark .jupyter-button {\n",
       "                    --jp-layout-color3: #383838;\n",
       "                }\n",
       "\n",
       "                .geemap-colab {\n",
       "                    background-color: var(--colab-primary-surface-color, white);\n",
       "                }\n",
       "\n",
       "                .geemap-colab .jupyter-button {\n",
       "                    --jp-layout-color3: var(--colab-primary-surface-color, white);\n",
       "                }\n",
       "            </style>\n",
       "            "
      ],
      "text/plain": [
       "<IPython.core.display.HTML object>"
      ]
     },
     "metadata": {},
     "output_type": "display_data"
    },
    {
     "data": {
      "text/plain": [
       "['frames\\\\frame_00.tif',\n",
       " 'frames\\\\frame_01.tif',\n",
       " 'frames\\\\frame_02.tif',\n",
       " 'frames\\\\frame_03.tif',\n",
       " 'frames\\\\frame_04.tif',\n",
       " 'frames\\\\frame_05.tif',\n",
       " 'frames\\\\frame_06.tif',\n",
       " 'frames\\\\frame_07.tif',\n",
       " 'frames\\\\frame_08.tif',\n",
       " 'frames\\\\frame_09.tif',\n",
       " 'frames\\\\frame_10.tif',\n",
       " 'frames\\\\frame_11.tif',\n",
       " 'frames\\\\frame_12.tif',\n",
       " 'frames\\\\frame_13.tif',\n",
       " 'frames\\\\frame_14.tif',\n",
       " 'frames\\\\frame_15.tif',\n",
       " 'frames\\\\frame_16.tif',\n",
       " 'frames\\\\frame_17.tif',\n",
       " 'frames\\\\frame_18.tif',\n",
       " 'frames\\\\frame_19.tif',\n",
       " 'frames\\\\frame_20.tif',\n",
       " 'frames\\\\frame_21.tif']"
      ]
     },
     "execution_count": 35,
     "metadata": {},
     "output_type": "execute_result"
    }
   ],
   "source": [
    "frame_files"
   ]
  },
  {
   "cell_type": "code",
   "execution_count": 42,
   "metadata": {},
   "outputs": [
    {
     "data": {
      "text/html": [
       "\n",
       "            <style>\n",
       "                .geemap-dark {\n",
       "                    --jp-widgets-color: white;\n",
       "                    --jp-widgets-label-color: white;\n",
       "                    --jp-ui-font-color1: white;\n",
       "                    --jp-layout-color2: #454545;\n",
       "                    background-color: #383838;\n",
       "                }\n",
       "\n",
       "                .geemap-dark .jupyter-button {\n",
       "                    --jp-layout-color3: #383838;\n",
       "                }\n",
       "\n",
       "                .geemap-colab {\n",
       "                    background-color: var(--colab-primary-surface-color, white);\n",
       "                }\n",
       "\n",
       "                .geemap-colab .jupyter-button {\n",
       "                    --jp-layout-color3: var(--colab-primary-surface-color, white);\n",
       "                }\n",
       "            </style>\n",
       "            "
      ],
      "text/plain": [
       "<IPython.core.display.HTML object>"
      ]
     },
     "metadata": {},
     "output_type": "display_data"
    },
    {
     "name": "stdout",
     "output_type": "stream",
     "text": [
      "Skipping frames\\frame_01.tif: cannot identify image file 'frames\\\\frame_01.tif'\n",
      "Skipping frames\\frame_02.tif: cannot identify image file 'frames\\\\frame_02.tif'\n",
      "Skipping frames\\frame_03.tif: cannot identify image file 'frames\\\\frame_03.tif'\n",
      "Skipping frames\\frame_04.tif: cannot identify image file 'frames\\\\frame_04.tif'\n",
      "Skipping frames\\frame_05.tif: cannot identify image file 'frames\\\\frame_05.tif'\n",
      "Skipping frames\\frame_06.tif: cannot identify image file 'frames\\\\frame_06.tif'\n",
      "Skipping frames\\frame_07.tif: cannot identify image file 'frames\\\\frame_07.tif'\n",
      "Skipping frames\\frame_08.tif: cannot identify image file 'frames\\\\frame_08.tif'\n",
      "Skipping frames\\frame_09.tif: cannot identify image file 'frames\\\\frame_09.tif'\n",
      "Skipping frames\\frame_11.tif: [Errno 2] No such file or directory: 'frames\\\\frame_11.tif'\n",
      "Skipping frames\\frame_12.tif: cannot identify image file 'frames\\\\frame_12.tif'\n",
      "Skipping frames\\frame_13.tif: cannot identify image file 'frames\\\\frame_13.tif'\n",
      "Skipping frames\\frame_14.tif: cannot identify image file 'frames\\\\frame_14.tif'\n",
      "Skipping frames\\frame_15.tif: cannot identify image file 'frames\\\\frame_15.tif'\n",
      "Skipping frames\\frame_16.tif: cannot identify image file 'frames\\\\frame_16.tif'\n",
      "Skipping frames\\frame_17.tif: cannot identify image file 'frames\\\\frame_17.tif'\n",
      "Skipping frames\\frame_18.tif: cannot identify image file 'frames\\\\frame_18.tif'\n",
      "Skipping frames\\frame_19.tif: cannot identify image file 'frames\\\\frame_19.tif'\n",
      "Skipping frames\\frame_20.tif: cannot identify image file 'frames\\\\frame_20.tif'\n",
      "GIF created successfully: forest_fire_animation.gif\n"
     ]
    }
   ],
   "source": [
    "valid_frames = []\n",
    "\n",
    "for file in frame_files:\n",
    "    try:\n",
    "        img = Image.open(file)\n",
    "        valid_frames.append(img)\n",
    "    except Exception as e:\n",
    "        print(f\"Skipping {file}: {e}\")\n",
    "\n",
    "if valid_frames:\n",
    "    valid_frames[0].save(\n",
    "        \"forest_fire_animation.gif\",\n",
    "        save_all=True,\n",
    "        append_images=valid_frames[1:],\n",
    "        duration=2000,\n",
    "        loop=0\n",
    "    )\n",
    "    print(\"GIF created successfully: forest_fire_animation.gif\")\n",
    "else:\n",
    "    print(\"No valid frames to create GIF.\")\n"
   ]
  },
  {
   "cell_type": "code",
   "execution_count": 36,
   "metadata": {},
   "outputs": [
    {
     "data": {
      "text/html": [
       "\n",
       "            <style>\n",
       "                .geemap-dark {\n",
       "                    --jp-widgets-color: white;\n",
       "                    --jp-widgets-label-color: white;\n",
       "                    --jp-ui-font-color1: white;\n",
       "                    --jp-layout-color2: #454545;\n",
       "                    background-color: #383838;\n",
       "                }\n",
       "\n",
       "                .geemap-dark .jupyter-button {\n",
       "                    --jp-layout-color3: #383838;\n",
       "                }\n",
       "\n",
       "                .geemap-colab {\n",
       "                    background-color: var(--colab-primary-surface-color, white);\n",
       "                }\n",
       "\n",
       "                .geemap-colab .jupyter-button {\n",
       "                    --jp-layout-color3: var(--colab-primary-surface-color, white);\n",
       "                }\n",
       "            </style>\n",
       "            "
      ],
      "text/plain": [
       "<IPython.core.display.HTML object>"
      ]
     },
     "metadata": {},
     "output_type": "display_data"
    },
    {
     "ename": "UnidentifiedImageError",
     "evalue": "cannot identify image file 'frames\\\\frame_01.tif'",
     "output_type": "error",
     "traceback": [
      "\u001b[1;31m---------------------------------------------------------------------------\u001b[0m",
      "\u001b[1;31mUnidentifiedImageError\u001b[0m                    Traceback (most recent call last)",
      "Cell \u001b[1;32mIn[36], line 1\u001b[0m\n\u001b[1;32m----> 1\u001b[0m frames \u001b[38;5;241m=\u001b[39m \u001b[43m[\u001b[49m\u001b[43mImage\u001b[49m\u001b[38;5;241;43m.\u001b[39;49m\u001b[43mopen\u001b[49m\u001b[43m(\u001b[49m\u001b[43mf\u001b[49m\u001b[43m)\u001b[49m\u001b[43m \u001b[49m\u001b[38;5;28;43;01mfor\u001b[39;49;00m\u001b[43m \u001b[49m\u001b[43mf\u001b[49m\u001b[43m \u001b[49m\u001b[38;5;129;43;01min\u001b[39;49;00m\u001b[43m \u001b[49m\u001b[43mframe_files\u001b[49m\u001b[43m]\u001b[49m\n\u001b[0;32m      3\u001b[0m \u001b[38;5;66;03m# Save as GIF\u001b[39;00m\n\u001b[0;32m      4\u001b[0m output_gif \u001b[38;5;241m=\u001b[39m \u001b[38;5;124m\"\u001b[39m\u001b[38;5;124mforest_fire_animation.gif\u001b[39m\u001b[38;5;124m\"\u001b[39m  \u001b[38;5;66;03m# Name of the output GIF\u001b[39;00m\n",
      "Cell \u001b[1;32mIn[36], line 1\u001b[0m, in \u001b[0;36m<listcomp>\u001b[1;34m(.0)\u001b[0m\n\u001b[1;32m----> 1\u001b[0m frames \u001b[38;5;241m=\u001b[39m [\u001b[43mImage\u001b[49m\u001b[38;5;241;43m.\u001b[39;49m\u001b[43mopen\u001b[49m\u001b[43m(\u001b[49m\u001b[43mf\u001b[49m\u001b[43m)\u001b[49m \u001b[38;5;28;01mfor\u001b[39;00m f \u001b[38;5;129;01min\u001b[39;00m frame_files]\n\u001b[0;32m      3\u001b[0m \u001b[38;5;66;03m# Save as GIF\u001b[39;00m\n\u001b[0;32m      4\u001b[0m output_gif \u001b[38;5;241m=\u001b[39m \u001b[38;5;124m\"\u001b[39m\u001b[38;5;124mforest_fire_animation.gif\u001b[39m\u001b[38;5;124m\"\u001b[39m  \u001b[38;5;66;03m# Name of the output GIF\u001b[39;00m\n",
      "File \u001b[1;32mc:\\ProgramData\\anaconda3\\envs\\torch311\\Lib\\site-packages\\PIL\\Image.py:3309\u001b[0m, in \u001b[0;36mopen\u001b[1;34m(fp, mode, formats)\u001b[0m\n\u001b[0;32m   3307\u001b[0m     warnings\u001b[38;5;241m.\u001b[39mwarn(message)\n\u001b[0;32m   3308\u001b[0m msg \u001b[38;5;241m=\u001b[39m \u001b[38;5;124m\"\u001b[39m\u001b[38;5;124mcannot identify image file \u001b[39m\u001b[38;5;132;01m%r\u001b[39;00m\u001b[38;5;124m\"\u001b[39m \u001b[38;5;241m%\u001b[39m (filename \u001b[38;5;28;01mif\u001b[39;00m filename \u001b[38;5;28;01melse\u001b[39;00m fp)\n\u001b[1;32m-> 3309\u001b[0m \u001b[38;5;28;01mraise\u001b[39;00m UnidentifiedImageError(msg)\n",
      "\u001b[1;31mUnidentifiedImageError\u001b[0m: cannot identify image file 'frames\\\\frame_01.tif'"
     ]
    }
   ],
   "source": [
    "frames = [Image.open(f) for f in frame_files]\n",
    "\n",
    "# Save as GIF\n",
    "output_gif = \"forest_fire_animation.gif\"  # Name of the output GIF\n",
    "frames[0].save(\n",
    "    output_gif,\n",
    "    save_all=True,\n",
    "    append_images=frames[1:],  # Add remaining frames\n",
    "    duration=500,  # 500ms per frame (adjust for animation speed)\n",
    "    loop=0         # 0 = infinite loop\n",
    ")\n",
    "\n",
    "print(f\"GIF created: {output_gif}\")\n"
   ]
  },
  {
   "cell_type": "code",
   "execution_count": null,
   "metadata": {},
   "outputs": [],
   "source": []
  },
  {
   "cell_type": "code",
   "execution_count": 38,
   "metadata": {},
   "outputs": [
    {
     "data": {
      "text/html": [
       "\n",
       "            <style>\n",
       "                .geemap-dark {\n",
       "                    --jp-widgets-color: white;\n",
       "                    --jp-widgets-label-color: white;\n",
       "                    --jp-ui-font-color1: white;\n",
       "                    --jp-layout-color2: #454545;\n",
       "                    background-color: #383838;\n",
       "                }\n",
       "\n",
       "                .geemap-dark .jupyter-button {\n",
       "                    --jp-layout-color3: #383838;\n",
       "                }\n",
       "\n",
       "                .geemap-colab {\n",
       "                    background-color: var(--colab-primary-surface-color, white);\n",
       "                }\n",
       "\n",
       "                .geemap-colab .jupyter-button {\n",
       "                    --jp-layout-color3: var(--colab-primary-surface-color, white);\n",
       "                }\n",
       "            </style>\n",
       "            "
      ],
      "text/plain": [
       "<IPython.core.display.HTML object>"
      ]
     },
     "metadata": {},
     "output_type": "display_data"
    },
    {
     "name": "stdout",
     "output_type": "stream",
     "text": [
      "frames\\frame_00.tif: mode=RGB, size=(355, 290)\n",
      "Error opening frames\\frame_01.tif: cannot identify image file 'frames\\\\frame_01.tif'\n",
      "Error opening frames\\frame_02.tif: cannot identify image file 'frames\\\\frame_02.tif'\n",
      "Error opening frames\\frame_03.tif: cannot identify image file 'frames\\\\frame_03.tif'\n",
      "Error opening frames\\frame_04.tif: cannot identify image file 'frames\\\\frame_04.tif'\n",
      "Error opening frames\\frame_05.tif: cannot identify image file 'frames\\\\frame_05.tif'\n",
      "Error opening frames\\frame_06.tif: cannot identify image file 'frames\\\\frame_06.tif'\n",
      "Error opening frames\\frame_07.tif: cannot identify image file 'frames\\\\frame_07.tif'\n",
      "Error opening frames\\frame_08.tif: cannot identify image file 'frames\\\\frame_08.tif'\n",
      "Error opening frames\\frame_09.tif: cannot identify image file 'frames\\\\frame_09.tif'\n",
      "frames\\frame_10.tif: mode=RGB, size=(355, 290)\n",
      "frames\\frame_11.tif: mode=RGB, size=(355, 290)\n",
      "Error opening frames\\frame_12.tif: cannot identify image file 'frames\\\\frame_12.tif'\n",
      "Error opening frames\\frame_13.tif: cannot identify image file 'frames\\\\frame_13.tif'\n",
      "Error opening frames\\frame_14.tif: cannot identify image file 'frames\\\\frame_14.tif'\n",
      "Error opening frames\\frame_15.tif: cannot identify image file 'frames\\\\frame_15.tif'\n",
      "Error opening frames\\frame_16.tif: cannot identify image file 'frames\\\\frame_16.tif'\n",
      "Error opening frames\\frame_17.tif: cannot identify image file 'frames\\\\frame_17.tif'\n",
      "Error opening frames\\frame_18.tif: cannot identify image file 'frames\\\\frame_18.tif'\n",
      "Error opening frames\\frame_19.tif: cannot identify image file 'frames\\\\frame_19.tif'\n",
      "Error opening frames\\frame_20.tif: cannot identify image file 'frames\\\\frame_20.tif'\n",
      "frames\\frame_21.tif: mode=RGB, size=(355, 290)\n"
     ]
    }
   ],
   "source": [
    "for file in frame_files:\n",
    "    try:\n",
    "        img = Image.open(file)\n",
    "        print(f\"{file}: mode={img.mode}, size={img.size}\")\n",
    "    except Exception as e:\n",
    "        print(f\"Error opening {file}: {e}\")\n"
   ]
  }
 ],
 "metadata": {
  "kernelspec": {
   "display_name": "torch311",
   "language": "python",
   "name": "python3"
  },
  "language_info": {
   "codemirror_mode": {
    "name": "ipython",
    "version": 3
   },
   "file_extension": ".py",
   "mimetype": "text/x-python",
   "name": "python",
   "nbconvert_exporter": "python",
   "pygments_lexer": "ipython3",
   "version": "3.11.10"
  }
 },
 "nbformat": 4,
 "nbformat_minor": 2
}
